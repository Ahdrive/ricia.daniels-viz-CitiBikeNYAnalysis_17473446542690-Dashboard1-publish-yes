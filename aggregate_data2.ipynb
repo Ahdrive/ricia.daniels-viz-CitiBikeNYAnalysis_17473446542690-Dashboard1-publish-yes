{
 "cells": [
  {
   "cell_type": "code",
   "execution_count": 1,
   "metadata": {},
   "outputs": [],
   "source": [
    "import pandas as pd"
   ]
  },
  {
   "cell_type": "code",
   "execution_count": 3,
   "metadata": {},
   "outputs": [
    {
     "name": "stdout",
     "output_type": "stream",
     "text": [
      "4\n"
     ]
    },
    {
     "data": {
      "text/html": [
       "<div>\n",
       "<style scoped>\n",
       "    .dataframe tbody tr th:only-of-type {\n",
       "        vertical-align: middle;\n",
       "    }\n",
       "\n",
       "    .dataframe tbody tr th {\n",
       "        vertical-align: top;\n",
       "    }\n",
       "\n",
       "    .dataframe thead th {\n",
       "        text-align: right;\n",
       "    }\n",
       "</style>\n",
       "<table border=\"1\" class=\"dataframe\">\n",
       "  <thead>\n",
       "    <tr style=\"text-align: right;\">\n",
       "      <th></th>\n",
       "      <th>Trip Year</th>\n",
       "      <th>Trip Month</th>\n",
       "      <th>Total Trips</th>\n",
       "    </tr>\n",
       "  </thead>\n",
       "  <tbody>\n",
       "    <tr>\n",
       "      <th>0</th>\n",
       "      <td>2022</td>\n",
       "      <td>June</td>\n",
       "      <td>3343273</td>\n",
       "    </tr>\n",
       "    <tr>\n",
       "      <th>1</th>\n",
       "      <td>2022</td>\n",
       "      <td>May</td>\n",
       "      <td>2865275</td>\n",
       "    </tr>\n",
       "    <tr>\n",
       "      <th>2</th>\n",
       "      <td>2023</td>\n",
       "      <td>June</td>\n",
       "      <td>3448977</td>\n",
       "    </tr>\n",
       "    <tr>\n",
       "      <th>3</th>\n",
       "      <td>2023</td>\n",
       "      <td>May</td>\n",
       "      <td>3453005</td>\n",
       "    </tr>\n",
       "  </tbody>\n",
       "</table>\n",
       "</div>"
      ],
      "text/plain": [
       "   Trip Year Trip Month  Total Trips\n",
       "0       2022       June      3343273\n",
       "1       2022        May      2865275\n",
       "2       2023       June      3448977\n",
       "3       2023        May      3453005"
      ]
     },
     "execution_count": 3,
     "metadata": {},
     "output_type": "execute_result"
    }
   ],
   "source": [
    "month_df = pd.read_csv(\"Data/month_df.csv\")\n",
    "print(len(month_df))\n",
    "month_df.head()"
   ]
  },
  {
   "cell_type": "code",
   "execution_count": null,
   "metadata": {},
   "outputs": [],
   "source": []
  },
  {
   "cell_type": "code",
   "execution_count": 8,
   "metadata": {},
   "outputs": [
    {
     "name": "stdout",
     "output_type": "stream",
     "text": [
      "   Trip Year Trip Month  Total Trips Month-Year\n",
      "0       2022       June      3343273  June 2022\n",
      "1       2022        May      2865275   May 2022\n",
      "2       2023       June      3448977  June 2023\n",
      "3       2023        May      3453005   May 2023\n"
     ]
    }
   ],
   "source": [
    "month_df['Month-Year'] = month_df['Trip Month'] + ' ' + month_df['Trip Year'].astype(str)\n",
    "print(month_df)\n"
   ]
  },
  {
   "cell_type": "code",
   "execution_count": null,
   "metadata": {},
   "outputs": [],
   "source": []
  },
  {
   "cell_type": "code",
   "execution_count": 11,
   "metadata": {},
   "outputs": [
    {
     "name": "stdout",
     "output_type": "stream",
     "text": [
      "4\n"
     ]
    }
   ],
   "source": [
    "month_df.to_csv(r'Data/month_df2.csv')\n",
    "print(len(month_df))"
   ]
  },
  {
   "cell_type": "code",
   "execution_count": null,
   "metadata": {},
   "outputs": [],
   "source": []
  },
  {
   "cell_type": "code",
   "execution_count": null,
   "metadata": {},
   "outputs": [],
   "source": []
  },
  {
   "cell_type": "code",
   "execution_count": null,
   "metadata": {},
   "outputs": [
    {
     "data": {
      "text/html": [
       "<div>\n",
       "<style scoped>\n",
       "    .dataframe tbody tr th:only-of-type {\n",
       "        vertical-align: middle;\n",
       "    }\n",
       "\n",
       "    .dataframe tbody tr th {\n",
       "        vertical-align: top;\n",
       "    }\n",
       "\n",
       "    .dataframe thead th {\n",
       "        text-align: right;\n",
       "    }\n",
       "</style>\n",
       "<table border=\"1\" class=\"dataframe\">\n",
       "  <thead>\n",
       "    <tr style=\"text-align: right;\">\n",
       "      <th></th>\n",
       "      <th></th>\n",
       "      <th></th>\n",
       "      <th></th>\n",
       "      <th></th>\n",
       "      <th>Date</th>\n",
       "      <th>Start Station</th>\n",
       "      <th>Start Lat</th>\n",
       "      <th>Start Lon</th>\n",
       "      <th>Type</th>\n",
       "    </tr>\n",
       "    <tr>\n",
       "      <th>Trip Year</th>\n",
       "      <th>Trip Month</th>\n",
       "      <th>End Station</th>\n",
       "      <th>End Lat</th>\n",
       "      <th>End Lon</th>\n",
       "      <th></th>\n",
       "      <th></th>\n",
       "      <th></th>\n",
       "      <th></th>\n",
       "      <th></th>\n",
       "    </tr>\n",
       "  </thead>\n",
       "  <tbody>\n",
       "    <tr>\n",
       "      <th rowspan=\"5\" valign=\"top\">2022</th>\n",
       "      <th rowspan=\"5\" valign=\"top\">June</th>\n",
       "      <th rowspan=\"2\" valign=\"top\">1 Ave &amp; E 110 St</th>\n",
       "      <th rowspan=\"2\" valign=\"top\">40.792327</th>\n",
       "      <th>-73.938300</th>\n",
       "      <td>7</td>\n",
       "      <td>7</td>\n",
       "      <td>7</td>\n",
       "      <td>7</td>\n",
       "      <td>7</td>\n",
       "    </tr>\n",
       "    <tr>\n",
       "      <th>-73.938300</th>\n",
       "      <td>2355</td>\n",
       "      <td>2355</td>\n",
       "      <td>2355</td>\n",
       "      <td>2355</td>\n",
       "      <td>2355</td>\n",
       "    </tr>\n",
       "    <tr>\n",
       "      <th rowspan=\"2\" valign=\"top\">1 Ave &amp; E 16 St</th>\n",
       "      <th rowspan=\"2\" valign=\"top\">40.732219</th>\n",
       "      <th>-73.981656</th>\n",
       "      <td>6713</td>\n",
       "      <td>6713</td>\n",
       "      <td>6713</td>\n",
       "      <td>6713</td>\n",
       "      <td>6713</td>\n",
       "    </tr>\n",
       "    <tr>\n",
       "      <th>-73.981656</th>\n",
       "      <td>15</td>\n",
       "      <td>15</td>\n",
       "      <td>15</td>\n",
       "      <td>15</td>\n",
       "      <td>15</td>\n",
       "    </tr>\n",
       "    <tr>\n",
       "      <th>1 Ave &amp; E 18 St</th>\n",
       "      <th>40.733812</th>\n",
       "      <th>-73.980544</th>\n",
       "      <td>29</td>\n",
       "      <td>29</td>\n",
       "      <td>29</td>\n",
       "      <td>29</td>\n",
       "      <td>29</td>\n",
       "    </tr>\n",
       "    <tr>\n",
       "      <th>...</th>\n",
       "      <th>...</th>\n",
       "      <th>...</th>\n",
       "      <th>...</th>\n",
       "      <th>...</th>\n",
       "      <td>...</td>\n",
       "      <td>...</td>\n",
       "      <td>...</td>\n",
       "      <td>...</td>\n",
       "      <td>...</td>\n",
       "    </tr>\n",
       "    <tr>\n",
       "      <th rowspan=\"5\" valign=\"top\">2023</th>\n",
       "      <th rowspan=\"5\" valign=\"top\">May</th>\n",
       "      <th rowspan=\"2\" valign=\"top\">Wythe Ave &amp; N 13 St</th>\n",
       "      <th>40.720000</th>\n",
       "      <th>-73.960000</th>\n",
       "      <td>955</td>\n",
       "      <td>955</td>\n",
       "      <td>955</td>\n",
       "      <td>955</td>\n",
       "      <td>955</td>\n",
       "    </tr>\n",
       "    <tr>\n",
       "      <th>40.722767</th>\n",
       "      <th>-73.957021</th>\n",
       "      <td>472</td>\n",
       "      <td>472</td>\n",
       "      <td>472</td>\n",
       "      <td>472</td>\n",
       "      <td>472</td>\n",
       "    </tr>\n",
       "    <tr>\n",
       "      <th rowspan=\"2\" valign=\"top\">Yankee Ferry Terminal</th>\n",
       "      <th rowspan=\"2\" valign=\"top\">40.687066</th>\n",
       "      <th>-74.016756</th>\n",
       "      <td>1527</td>\n",
       "      <td>1527</td>\n",
       "      <td>1527</td>\n",
       "      <td>1527</td>\n",
       "      <td>1527</td>\n",
       "    </tr>\n",
       "    <tr>\n",
       "      <th>-74.016756</th>\n",
       "      <td>167</td>\n",
       "      <td>167</td>\n",
       "      <td>167</td>\n",
       "      <td>167</td>\n",
       "      <td>167</td>\n",
       "    </tr>\n",
       "    <tr>\n",
       "      <th>York St &amp; Marin Blvd</th>\n",
       "      <th>40.716615</th>\n",
       "      <th>-74.042412</th>\n",
       "      <td>3</td>\n",
       "      <td>3</td>\n",
       "      <td>3</td>\n",
       "      <td>3</td>\n",
       "      <td>3</td>\n",
       "    </tr>\n",
       "  </tbody>\n",
       "</table>\n",
       "<p>9848 rows × 5 columns</p>\n",
       "</div>"
      ],
      "text/plain": [
       "                                                                 Date  \\\n",
       "Trip Year Trip Month End Station           End Lat   End Lon            \n",
       "2022      June       1 Ave & E 110 St      40.792327 -73.938300     7   \n",
       "                                                     -73.938300  2355   \n",
       "                     1 Ave & E 16 St       40.732219 -73.981656  6713   \n",
       "                                                     -73.981656    15   \n",
       "                     1 Ave & E 18 St       40.733812 -73.980544    29   \n",
       "...                                                               ...   \n",
       "2023      May        Wythe Ave & N 13 St   40.720000 -73.960000   955   \n",
       "                                           40.722767 -73.957021   472   \n",
       "                     Yankee Ferry Terminal 40.687066 -74.016756  1527   \n",
       "                                                     -74.016756   167   \n",
       "                     York St & Marin Blvd  40.716615 -74.042412     3   \n",
       "\n",
       "                                                                 Start Station  \\\n",
       "Trip Year Trip Month End Station           End Lat   End Lon                     \n",
       "2022      June       1 Ave & E 110 St      40.792327 -73.938300              7   \n",
       "                                                     -73.938300           2355   \n",
       "                     1 Ave & E 16 St       40.732219 -73.981656           6713   \n",
       "                                                     -73.981656             15   \n",
       "                     1 Ave & E 18 St       40.733812 -73.980544             29   \n",
       "...                                                                        ...   \n",
       "2023      May        Wythe Ave & N 13 St   40.720000 -73.960000            955   \n",
       "                                           40.722767 -73.957021            472   \n",
       "                     Yankee Ferry Terminal 40.687066 -74.016756           1527   \n",
       "                                                     -74.016756            167   \n",
       "                     York St & Marin Blvd  40.716615 -74.042412              3   \n",
       "\n",
       "                                                                 Start Lat  \\\n",
       "Trip Year Trip Month End Station           End Lat   End Lon                 \n",
       "2022      June       1 Ave & E 110 St      40.792327 -73.938300          7   \n",
       "                                                     -73.938300       2355   \n",
       "                     1 Ave & E 16 St       40.732219 -73.981656       6713   \n",
       "                                                     -73.981656         15   \n",
       "                     1 Ave & E 18 St       40.733812 -73.980544         29   \n",
       "...                                                                    ...   \n",
       "2023      May        Wythe Ave & N 13 St   40.720000 -73.960000        955   \n",
       "                                           40.722767 -73.957021        472   \n",
       "                     Yankee Ferry Terminal 40.687066 -74.016756       1527   \n",
       "                                                     -74.016756        167   \n",
       "                     York St & Marin Blvd  40.716615 -74.042412          3   \n",
       "\n",
       "                                                                 Start Lon  \\\n",
       "Trip Year Trip Month End Station           End Lat   End Lon                 \n",
       "2022      June       1 Ave & E 110 St      40.792327 -73.938300          7   \n",
       "                                                     -73.938300       2355   \n",
       "                     1 Ave & E 16 St       40.732219 -73.981656       6713   \n",
       "                                                     -73.981656         15   \n",
       "                     1 Ave & E 18 St       40.733812 -73.980544         29   \n",
       "...                                                                    ...   \n",
       "2023      May        Wythe Ave & N 13 St   40.720000 -73.960000        955   \n",
       "                                           40.722767 -73.957021        472   \n",
       "                     Yankee Ferry Terminal 40.687066 -74.016756       1527   \n",
       "                                                     -74.016756        167   \n",
       "                     York St & Marin Blvd  40.716615 -74.042412          3   \n",
       "\n",
       "                                                                 Type  \n",
       "Trip Year Trip Month End Station           End Lat   End Lon           \n",
       "2022      June       1 Ave & E 110 St      40.792327 -73.938300     7  \n",
       "                                                     -73.938300  2355  \n",
       "                     1 Ave & E 16 St       40.732219 -73.981656  6713  \n",
       "                                                     -73.981656    15  \n",
       "                     1 Ave & E 18 St       40.733812 -73.980544    29  \n",
       "...                                                               ...  \n",
       "2023      May        Wythe Ave & N 13 St   40.720000 -73.960000   955  \n",
       "                                           40.722767 -73.957021   472  \n",
       "                     Yankee Ferry Terminal 40.687066 -74.016756  1527  \n",
       "                                                     -74.016756   167  \n",
       "                     York St & Marin Blvd  40.716615 -74.042412     3  \n",
       "\n",
       "[9848 rows x 5 columns]"
      ]
     },
     "execution_count": 19,
     "metadata": {},
     "output_type": "execute_result"
    }
   ],
   "source": [
    "\n"
   ]
  },
  {
   "cell_type": "code",
   "execution_count": null,
   "metadata": {},
   "outputs": [
    {
     "name": "stdout",
     "output_type": "stream",
     "text": [
      "9848\n"
     ]
    }
   ],
   "source": []
  },
  {
   "cell_type": "code",
   "execution_count": null,
   "metadata": {},
   "outputs": [],
   "source": []
  },
  {
   "cell_type": "code",
   "execution_count": 13,
   "metadata": {},
   "outputs": [],
   "source": []
  },
  {
   "cell_type": "code",
   "execution_count": null,
   "metadata": {
    "scrolled": true
   },
   "outputs": [],
   "source": []
  },
  {
   "cell_type": "code",
   "execution_count": null,
   "metadata": {},
   "outputs": [],
   "source": []
  },
  {
   "cell_type": "code",
   "execution_count": 17,
   "metadata": {},
   "outputs": [],
   "source": []
  },
  {
   "cell_type": "code",
   "execution_count": null,
   "metadata": {},
   "outputs": [],
   "source": []
  },
  {
   "cell_type": "code",
   "execution_count": null,
   "metadata": {},
   "outputs": [],
   "source": []
  }
 ],
 "metadata": {
  "kernelspec": {
   "display_name": "Python [conda env:base] *",
   "language": "python",
   "name": "conda-base-py"
  },
  "language_info": {
   "codemirror_mode": {
    "name": "ipython",
    "version": 3
   },
   "file_extension": ".py",
   "mimetype": "text/x-python",
   "name": "python",
   "nbconvert_exporter": "python",
   "pygments_lexer": "ipython3",
   "version": "3.12.7"
  }
 },
 "nbformat": 4,
 "nbformat_minor": 4
}
